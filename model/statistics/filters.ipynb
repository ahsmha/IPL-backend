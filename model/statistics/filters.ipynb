{
 "cells": [
  {
   "cell_type": "code",
   "execution_count": null,
   "metadata": {},
   "outputs": [],
   "source": [
    "import pandas as pd\n",
    "import numpy as np\n",
    "import matplotlib.pyplot as plt\n",
    "%matplotlib inline\n",
    "import seaborn as sns\n",
    "import plotly.express as px"
   ]
  },
  {
   "cell_type": "code",
   "execution_count": null,
   "metadata": {},
   "outputs": [],
   "source": [
    "matches = pd.read_csv('../../static/data/dataset_3/IPL_Matches_2008_2022.csv')\n",
    "matches.head()"
   ]
  },
  {
   "cell_type": "code",
   "execution_count": null,
   "metadata": {},
   "outputs": [],
   "source": [
    "balls = pd.read_csv('../../static/data/dataset_3/IPL_Ball_by_Ball_2008_2022.csv')\n",
    "balls.head()"
   ]
  },
  {
   "cell_type": "code",
   "execution_count": null,
   "metadata": {},
   "outputs": [],
   "source": [
    "matches['Season'] = matches['Season'].str.replace('2007/08', '2008')\n",
    "matches['Season'] = matches['Season'].str.replace('2009/10', '2010')\n",
    "matches['Season'] = matches['Season'].str.replace('2020/21', '2020')"
   ]
  },
  {
   "cell_type": "code",
   "execution_count": null,
   "metadata": {},
   "outputs": [],
   "source": [
    "# Rename old names to new names\n",
    "matches['Team1'] = matches['Team1'].str.replace('Delhi Daredevils', 'Delhi Capitals')\n",
    "matches['Team1'] = matches['Team1'].str.replace('Kings XI Punjab', 'Punjab Kings')\n",
    "matches['Team1'] = matches['Team1'].str.replace('Deccan Chargers', 'Sunrisers Hyderabad')\n",
    "matches['Team1'] = matches['Team1'].str.replace('Rising Pune Supergiants', 'Rising Pune Supergiant')\n",
    "\n",
    "\n",
    "matches['Team2'] = matches['Team2'].str.replace('Delhi Daredevils', 'Delhi Capitals')\n",
    "matches['Team2'] = matches['Team2'].str.replace('Kings XI Punjab', 'Punjab Kings')\n",
    "matches['Team2'] = matches['Team2'].str.replace('Deccan Chargers', 'Sunrisers Hyderabad')\n",
    "matches['Team2'] = matches['Team2'].str.replace('Rising Pune Supergiants', 'Rising Pune Supergiant')\n",
    "\n",
    "\n",
    "matches['TossWinner'] = matches['TossWinner'].str.replace('Delhi Daredevils', 'Delhi Capitals')\n",
    "matches['TossWinner'] = matches['TossWinner'].str.replace('Kings XI Punjab', 'Punjab Kings')\n",
    "matches['TossWinner'] = matches['TossWinner'].str.replace('Deccan Chargers', 'Sunrisers Hyderabad')\n",
    "matches['TossWinner'] = matches['TossWinner'].str.replace('Rising Pune Supergiants', 'Rising Pune Supergiant')\n",
    "\n",
    "\n",
    "matches['WinningTeam'] = matches['WinningTeam'].str.replace('Delhi Daredevils', 'Delhi Capitals')\n",
    "matches['WinningTeam'] = matches['WinningTeam'].str.replace('Kings XI Punjab', 'Punjab Kings')\n",
    "matches['WinningTeam'] = matches['WinningTeam'].str.replace('Deccan Chargers', 'Sunrisers Hyderabad')\n",
    "matches['WinningTeam'] = matches['WinningTeam'].str.replace('Rising Pune Supergiants', 'Rising Pune Supergiant')"
   ]
  },
  {
   "cell_type": "code",
   "execution_count": null,
   "metadata": {},
   "outputs": [],
   "source": [
    "# Rename old names to new names\n",
    "balls['BattingTeam'] = balls['BattingTeam'].str.replace('Delhi Daredevils', 'Delhi Capitals')\n",
    "balls['BattingTeam'] = balls['BattingTeam'].str.replace('Kings XI Punjab', 'Punjab Kings')\n",
    "balls['BattingTeam'] = balls['BattingTeam'].str.replace('Deccan Chargers', 'Sunrisers Hyderabad')\n",
    "balls['BattingTeam'] = balls['BattingTeam'].str.replace('Rising Pune Supergiants', 'Rising Pune Supergiant')"
   ]
  },
  {
   "cell_type": "code",
   "execution_count": null,
   "metadata": {},
   "outputs": [],
   "source": [
    "# Current teams in IPl\n",
    "current_teams = [\n",
    "    'Rajasthan Royals',\n",
    "    'Royal Challengers Bangalore',\n",
    "    'Sunrisers Hyderabad', \n",
    "    'Delhi Capitals', \n",
    "    'Chennai Super Kings',\n",
    "    'Gujarat Titans', \n",
    "    'Lucknow Super Giants', \n",
    "    'Kolkata Knight Riders',\n",
    "    'Punjab Kings', \n",
    "    'Mumbai Indians'\n",
    "]"
   ]
  },
  {
   "cell_type": "code",
   "execution_count": null,
   "metadata": {},
   "outputs": [],
   "source": [
    "# Setting data of current teams only\n",
    "matches = matches[matches['Team1'].isin(current_teams)]\n",
    "matches = matches[matches['Team2'].isin(current_teams)]\n",
    "matches = matches[matches['TossWinner'].isin(current_teams)]\n",
    "matches = matches[matches['WinningTeam'].isin(current_teams)]\n",
    "matches.shape"
   ]
  },
  {
   "cell_type": "code",
   "execution_count": null,
   "metadata": {},
   "outputs": [],
   "source": [
    "balls = balls[balls['BattingTeam'].isin(current_teams)]"
   ]
  },
  {
   "cell_type": "code",
   "execution_count": null,
   "metadata": {},
   "outputs": [],
   "source": [
    "def get_players(players_str):\n",
    "    players = players_str[1:-2]\n",
    "    players = players.split(',')\n",
    "    players = list(map(lambda player: player[2:-2], players))\n",
    "    return players"
   ]
  },
  {
   "cell_type": "code",
   "execution_count": null,
   "metadata": {},
   "outputs": [],
   "source": [
    "players = get_players(matches['Team1Players'][0])\n",
    "players"
   ]
  },
  {
   "cell_type": "code",
   "execution_count": null,
   "metadata": {},
   "outputs": [],
   "source": [
    "# Merge the match_df dataset with balls dataset\n",
    "data = matches.merge(balls, on='ID')\n",
    "data.head()"
   ]
  },
  {
   "cell_type": "code",
   "execution_count": null,
   "metadata": {},
   "outputs": [],
   "source": [
    "res = data[(data['Season'] == '2011') & (data['Team1'] == 'Punjab Kings')]\n",
    "# most = res.groupby(['batter'])\n",
    "res"
   ]
  },
  {
   "cell_type": "code",
   "execution_count": null,
   "metadata": {},
   "outputs": [],
   "source": [
    "def get_most_fours_by_season(season='alltime', team='allteams'):\n",
    "    if season != 'alltime':\n",
    "        if team == 'allteams':\n",
    "            most_fours = data[data['batsman_run'] == 4].groupby(['batter', 'Season']).size().reset_index(name='count')\n",
    "            most_fours = most_fours[most_fours['Season'] == season].sort_values('count')[::-1]\n",
    "            return most_fours\n",
    "        else:\n",
    "            new_data = data[data['BattingTeam'] == team]\n",
    "            most_fours = new_data.loc[new_data['batsman_run'] == 4, ['batter', 'Season']].groupby(['batter', 'Season']).size().reset_index(name='count')\n",
    "            most_fours = most_fours[most_fours['Season'] == season].sort_values('count')[::-1]\n",
    "            return most_fours\n",
    "    else:\n",
    "        if team == 'allteams':\n",
    "            most_fours = data[data['batsman_run'] == 4].groupby('batter').size().reset_index(name='count')\n",
    "            most_fours = most_fours.sort_values('count')[::-1]\n",
    "            return most_fours\n",
    "        else:\n",
    "            new_data = data[data['BattingTeam'] == team]\n",
    "            most_fours = new_data[new_data['batsman_run'] == 4].groupby('batter').size().reset_index(name='count')[::-1]\n",
    "            most_fours = most_fours.sort_values('count')[::-1]\n",
    "            return most_fours"
   ]
  },
  {
   "cell_type": "code",
   "execution_count": null,
   "metadata": {},
   "outputs": [],
   "source": [
    "most_fours_2022 = get_most_fours_by_season(season='2012', team='Delhi Capitals')\n",
    "most_fours_2022"
   ]
  },
  {
   "cell_type": "code",
   "execution_count": null,
   "metadata": {},
   "outputs": [],
   "source": [
    "def get_most_fours_by_inning(season='alltime', team='allteams'):\n",
    "    if season != 'alltime':\n",
    "        if team == 'allteams':\n",
    "            most_fours = data[data['batsman_run'] == 4].groupby(['batter', 'Season', 'ID', 'innings']).size().reset_index(name='count')\n",
    "            most_fours = most_fours[most_fours['Season'] == season].sort_values('count')[::-1]\n",
    "            return most_fours\n",
    "        else:\n",
    "            new_data = data[data['BattingTeam'] == team]\n",
    "            most_fours = new_data[new_data['batsman_run'] == 4].groupby(['batter', 'Season', 'ID', 'innings']).size().reset_index(name='count')\n",
    "            most_fours = most_fours[most_fours['Season'] == season].sort_values('count')[::-1]\n",
    "            return most_fours\n",
    "    else:\n",
    "        if team == 'allteams':\n",
    "            most_fours = data[data['batsman_run'] == 4].groupby(['batter', 'ID', 'innings']).size().reset_index(name='count')\n",
    "            most_fours = most_fours.sort_values('count')[::-1]\n",
    "            return most_fours\n",
    "        else:\n",
    "            new_data = data[data['BattingTeam'] == team]\n",
    "            most_fours = new_data[new_data['batsman_run'] == 4].groupby(['batter', 'ID', 'innings']).size().reset_index(name='count')[::-1]\n",
    "            most_fours = most_fours.sort_values('count')[::-1]\n",
    "            return most_fours\n"
   ]
  },
  {
   "cell_type": "code",
   "execution_count": null,
   "metadata": {},
   "outputs": [],
   "source": [
    "most_fours_2022_innings = get_most_fours_by_inning(season='2022')\n",
    "most_fours_2022_innings"
   ]
  },
  {
   "cell_type": "code",
   "execution_count": null,
   "metadata": {},
   "outputs": [],
   "source": [
    "def get_most_sixes_by_season(season='alltime', team='allteams'):\n",
    "    if season != 'alltime':\n",
    "        if team == 'allteams':\n",
    "            most_fours = data[data['batsman_run'] == 6].groupby(['batter', 'Season']).size().reset_index(name='count')\n",
    "            most_fours = most_fours[most_fours['Season'] == season].sort_values('count')[::-1]\n",
    "            return most_fours\n",
    "        else:\n",
    "            new_data = data[data['BattingTeam'] == team]\n",
    "            most_fours = new_data[new_data['batsman_run'] == 6].groupby(['batter', 'Season']).size().reset_index(name='count')\n",
    "            most_fours = most_fours[most_fours['Season'] == season].sort_values('count')[::-1]\n",
    "            return most_fours\n",
    "    else:\n",
    "        if team == 'allteams':\n",
    "            most_fours = data[data['batsman_run'] == 6].groupby('batter').size().reset_index(name='count')\n",
    "            most_fours = most_fours.sort_values('count')[::-1]\n",
    "            return most_fours\n",
    "        else:\n",
    "            new_data = data[data['BattingTeam'] == team]\n",
    "            most_fours = new_data[new_data['batsman_run'] == 6].groupby('batter').size().reset_index(name='count')[::-1]\n",
    "            most_fours = most_fours.sort_values('count')[::-1]\n",
    "            return most_fours"
   ]
  },
  {
   "cell_type": "code",
   "execution_count": null,
   "metadata": {},
   "outputs": [],
   "source": [
    "most_sixes_2022 = get_most_sixes_by_season(season='2022', team='Chennai Super Kings')\n",
    "most_sixes_2022"
   ]
  },
  {
   "cell_type": "code",
   "execution_count": null,
   "metadata": {},
   "outputs": [],
   "source": [
    "def get_most_sixes_by_inning(season='alltime', team='allteams'):\n",
    "    if season != 'alltime':\n",
    "        if team == 'allteams':\n",
    "            most_fours = data[data['batsman_run'] == 6].groupby(['batter', 'Season', 'ID', 'innings']).size().reset_index(name='count')\n",
    "            most_fours = most_fours[most_fours['Season'] == season].sort_values('count')[::-1]\n",
    "            return most_fours\n",
    "        else:\n",
    "            new_data = data[data['BattingTeam'] == team]\n",
    "            most_fours = new_data[new_data['batsman_run'] == 6].groupby(['batter', 'Season', 'ID', 'innings']).size().reset_index(name='count')\n",
    "            most_fours = most_fours[most_fours['Season'] == season].sort_values('count')[::-1]\n",
    "            return most_fours\n",
    "    else:\n",
    "        if team == 'allteams':\n",
    "            most_fours = data[data['batsman_run'] == 6].groupby(['batter', 'ID', 'innings']).size().reset_index(name='count')\n",
    "            most_fours = most_fours.sort_values('count')[::-1]\n",
    "            return most_fours\n",
    "        else:\n",
    "            new_data = data[data['BattingTeam'] == team]\n",
    "            most_fours = new_data[new_data['batsman_run'] == 6].groupby(['batter', 'ID', 'innings']).size().reset_index(name='count')[::-1]\n",
    "            most_fours = most_fours.sort_values('count')[::-1]\n",
    "            return most_fours"
   ]
  },
  {
   "cell_type": "code",
   "execution_count": null,
   "metadata": {},
   "outputs": [],
   "source": [
    "most_sixes_2022_innings = get_most_sixes_by_inning(season='2008')\n",
    "most_sixes_2022_innings"
   ]
  },
  {
   "cell_type": "code",
   "execution_count": null,
   "metadata": {},
   "outputs": [],
   "source": [
    "def get_most_fifties(season='alltime', team='allteams'):\n",
    "    if season != 'alltime':\n",
    "        if team == 'allteams':\n",
    "            new_data = data[data['Season'] == season]\n",
    "            most_fifties = new_data.groupby(['batter', 'ID', 'innings'])['batsman_run'].sum().reset_index(name='runs')\n",
    "            most_fifties = most_fifties[(most_fifties['runs'] >= 50) & (most_fifties['runs'] < 100)]\n",
    "            most_fifties = most_fifties.groupby('batter').size().reset_index(name='count').sort_values('count')[::-1]\n",
    "            return most_fifties\n",
    "        else:\n",
    "            new_data = data[(data['BattingTeam'] == team) & (data['Season'] == season)]\n",
    "            most_fifties = new_data.groupby(['batter', 'ID', 'innings'])['batsman_run'].sum().reset_index(name='runs')\n",
    "            most_fifties = most_fifties[(most_fifties['runs'] >= 50) & (most_fifties['runs'] < 100)]\n",
    "            most_fifties = most_fifties.groupby('batter').size().reset_index(name='count').sort_values('count')[::-1]\n",
    "            return most_fifties\n",
    "    else:\n",
    "        if team == 'allteams':\n",
    "            most_fifties = data.groupby(['batter', 'ID', 'innings'])['batsman_run'].sum().reset_index(name='runs')\n",
    "            most_fifties = most_fifties[(most_fifties['runs'] >= 50) & (most_fifties['runs'] < 100)]\n",
    "            most_fifties = most_fifties.groupby('batter').size().reset_index(name='count').sort_values('count')[::-1]\n",
    "            return most_fifties\n",
    "        else:\n",
    "            new_data = data[data['BattingTeam'] == team]\n",
    "            most_fifties = new_data.groupby(['batter', 'ID', 'innings'])['batsman_run'].sum().reset_index(name='runs')\n",
    "            most_fifties = most_fifties[(most_fifties['runs'] >= 50) & (most_fifties['runs'] < 100)]\n",
    "            most_fifties = most_fifties.groupby('batter').size().reset_index(name='count').sort_values('count')[::-1]\n",
    "            return most_fifties"
   ]
  },
  {
   "cell_type": "code",
   "execution_count": null,
   "metadata": {},
   "outputs": [],
   "source": [
    "most_fifties = get_most_fifties(season='2011', team='Punjab Kings')\n",
    "most_fifties"
   ]
  },
  {
   "cell_type": "code",
   "execution_count": null,
   "metadata": {},
   "outputs": [],
   "source": [
    "def get_most_centuries(season='alltime', team='allteams'):\n",
    "    if season != 'alltime':\n",
    "        if team == 'allteams':\n",
    "            new_data = data[data['Season'] == season]\n",
    "            most_centuries = new_data.groupby(['batter', 'ID', 'innings'])['batsman_run'].sum().reset_index(name='runs')\n",
    "            most_centuries = most_centuries[most_centuries['runs'] >= 100]\n",
    "            most_centuries = most_centuries.groupby('batter').size().reset_index(name='count').sort_values('count')[::-1]\n",
    "            return most_centuries\n",
    "        else:\n",
    "            new_data = data[(data['BattingTeam'] == team) & (data['Season'] == season)]\n",
    "            most_centuries = new_data.groupby(['batter', 'ID', 'innings'])['batsman_run'].sum().reset_index(name='runs')\n",
    "            most_centuries = most_centuries[most_centuries['runs'] >= 100]\n",
    "            most_centuries = most_centuries.groupby('batter').size().reset_index(name='count').sort_values('count')[::-1]\n",
    "            return most_centuries\n",
    "    else:\n",
    "        if team == 'allteams':\n",
    "            most_centuries = data.groupby(['batter', 'ID', 'innings'])['batsman_run'].sum().reset_index(name='runs')\n",
    "            most_centuries = most_centuries[most_centuries['runs'] >= 100]\n",
    "            most_centuries = most_centuries.groupby('batter').size().reset_index(name='count').sort_values('count')[::-1]\n",
    "            return most_centuries\n",
    "        else:\n",
    "            new_data = data[data['BattingTeam'] == team]\n",
    "            most_centuries = new_data.groupby(['batter', 'ID', 'innings'])['batsman_run'].sum().reset_index(name='runs')\n",
    "            most_centuries = most_centuries[most_centuries['runs'] >= 100]\n",
    "            most_centuries = most_centuries.groupby('batter').size().reset_index(name='count').sort_values('count')[::-1]\n",
    "            return most_centuries"
   ]
  },
  {
   "cell_type": "code",
   "execution_count": null,
   "metadata": {},
   "outputs": [],
   "source": [
    "most_centuries = get_most_centuries(season='2011', team='Punjab Kings')\n",
    "most_centuries"
   ]
  }
 ],
 "metadata": {
  "kernelspec": {
   "display_name": "venv",
   "language": "python",
   "name": "python3"
  },
  "language_info": {
   "codemirror_mode": {
    "name": "ipython",
    "version": 3
   },
   "file_extension": ".py",
   "mimetype": "text/x-python",
   "name": "python",
   "nbconvert_exporter": "python",
   "pygments_lexer": "ipython3",
   "version": "3.10.10"
  },
  "orig_nbformat": 4
 },
 "nbformat": 4,
 "nbformat_minor": 2
}
