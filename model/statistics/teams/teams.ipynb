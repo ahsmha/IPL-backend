{
 "cells": [
  {
   "cell_type": "code",
   "execution_count": null,
   "metadata": {},
   "outputs": [],
   "source": [
    "import pandas as pd\n",
    "import numpy as np\n",
    "import matplotlib.pyplot as plt\n",
    "%matplotlib inline\n",
    "import seaborn as sns\n",
    "import plotly.express as px"
   ]
  },
  {
   "cell_type": "code",
   "execution_count": null,
   "metadata": {},
   "outputs": [],
   "source": [
    "matches = pd.read_csv('../../../static/data/dataset_3/IPL_Matches_2008_2022.csv')\n",
    "matches.head()"
   ]
  },
  {
   "cell_type": "code",
   "execution_count": null,
   "metadata": {},
   "outputs": [],
   "source": [
    "matches.describe()"
   ]
  },
  {
   "cell_type": "code",
   "execution_count": null,
   "metadata": {},
   "outputs": [],
   "source": [
    "matches.info()"
   ]
  },
  {
   "cell_type": "code",
   "execution_count": null,
   "metadata": {},
   "outputs": [],
   "source": [
    "matches.shape"
   ]
  },
  {
   "cell_type": "code",
   "execution_count": null,
   "metadata": {},
   "outputs": [],
   "source": [
    "matches.isna().sum()"
   ]
  },
  {
   "cell_type": "code",
   "execution_count": null,
   "metadata": {},
   "outputs": [],
   "source": [
    "# Rename old names to new names\n",
    "matches['Team1'] = matches['Team1'].str.replace('Delhi Daredevils', 'Delhi Capitals')\n",
    "matches['Team1'] = matches['Team1'].str.replace('Kings XI Punjab', 'Punjab Kings')\n",
    "matches['Team1'] = matches['Team1'].str.replace('Deccan Chargers', 'Sunrisers Hyderabad')\n",
    "matches['Team1'] = matches['Team1'].str.replace('Rising Pune Supergiants', 'Rising Pune Supergiant')\n",
    "\n",
    "\n",
    "matches['Team2'] = matches['Team2'].str.replace('Delhi Daredevils', 'Delhi Capitals')\n",
    "matches['Team2'] = matches['Team2'].str.replace('Kings XI Punjab', 'Punjab Kings')\n",
    "matches['Team2'] = matches['Team2'].str.replace('Deccan Chargers', 'Sunrisers Hyderabad')\n",
    "matches['Team2'] = matches['Team2'].str.replace('Rising Pune Supergiants', 'Rising Pune Supergiant')\n",
    "\n",
    "\n",
    "matches['TossWinner'] = matches['TossWinner'].str.replace('Delhi Daredevils', 'Delhi Capitals')\n",
    "matches['TossWinner'] = matches['TossWinner'].str.replace('Kings XI Punjab', 'Punjab Kings')\n",
    "matches['TossWinner'] = matches['TossWinner'].str.replace('Deccan Chargers', 'Sunrisers Hyderabad')\n",
    "matches['TossWinner'] = matches['TossWinner'].str.replace('Rising Pune Supergiants', 'Rising Pune Supergiant')\n",
    "\n",
    "\n",
    "matches['WinningTeam'] = matches['WinningTeam'].str.replace('Delhi Daredevils', 'Delhi Capitals')\n",
    "matches['WinningTeam'] = matches['WinningTeam'].str.replace('Kings XI Punjab', 'Punjab Kings')\n",
    "matches['WinningTeam'] = matches['WinningTeam'].str.replace('Deccan Chargers', 'Sunrisers Hyderabad')\n",
    "matches['WinningTeam'] = matches['WinningTeam'].str.replace('Rising Pune Supergiants', 'Rising Pune Supergiant')"
   ]
  },
  {
   "cell_type": "code",
   "execution_count": null,
   "metadata": {},
   "outputs": [],
   "source": [
    "# Current teams in IPl\n",
    "current_teams = [\n",
    "    'Rajasthan Royals',\n",
    "    'Royal Challengers Bangalore',\n",
    "    'Sunrisers Hyderabad', \n",
    "    'Delhi Capitals', \n",
    "    'Chennai Super Kings',\n",
    "    'Gujarat Titans', \n",
    "    'Lucknow Super Giants', \n",
    "    'Kolkata Knight Riders',\n",
    "    'Punjab Kings', \n",
    "    'Mumbai Indians'\n",
    "]"
   ]
  },
  {
   "cell_type": "code",
   "execution_count": null,
   "metadata": {},
   "outputs": [],
   "source": [
    "# Setting data of current teams only\n",
    "matches = matches[matches['Team1'].isin(current_teams)]\n",
    "matches = matches[matches['Team2'].isin(current_teams)]\n",
    "matches = matches[matches['TossWinner'].isin(current_teams)]\n",
    "matches = matches[matches['WinningTeam'].isin(current_teams)]"
   ]
  },
  {
   "cell_type": "code",
   "execution_count": null,
   "metadata": {},
   "outputs": [],
   "source": [
    "plt.figure(figsize = (10,6))\n",
    "sns.countplot(y = 'WinningTeam',data = matches,order= matches['WinningTeam'].value_counts().index)\n",
    "plt.xlabel('Wins')\n",
    "plt.ylabel('Team')\n",
    "plt.title('Number of  IPL  matches won by each team')"
   ]
  },
  {
   "cell_type": "code",
   "execution_count": null,
   "metadata": {},
   "outputs": [],
   "source": [
    "matches['Season'] = matches['Season'].str.replace('2007/08', '2008')\n",
    "matches['Season'] = matches['Season'].str.replace('2009/10', '2010')\n",
    "matches['Season'] = matches['Season'].str.replace('2020/21', '2020')"
   ]
  },
  {
   "cell_type": "code",
   "execution_count": null,
   "metadata": {},
   "outputs": [],
   "source": [
    "# Season wise number of matches played\n",
    "matches_per_season = matches['Season'].value_counts()\n",
    "matches_per_season = matches_per_season.sort_index()\n",
    "matches_per_season"
   ]
  },
  {
   "cell_type": "code",
   "execution_count": null,
   "metadata": {},
   "outputs": [],
   "source": [
    "plt.figure(figsize = (10,6))\n",
    "sns.countplot(y = 'Season', data = matches, order= matches_per_season.index)\n",
    "plt.xlabel('Matches')\n",
    "plt.ylabel('Season')\n",
    "plt.title('Number of  IPL  matches played in each season')"
   ]
  },
  {
   "cell_type": "markdown",
   "metadata": {},
   "source": [
    "### Number of matches played in each season by each team"
   ]
  },
  {
   "cell_type": "code",
   "execution_count": null,
   "metadata": {},
   "outputs": [],
   "source": [
    "matches_by_team_1 = matches.groupby('Season')['Team1'].value_counts()\n",
    "matches_by_team_1 = matches_by_team_1.reset_index()\n",
    "matches_by_team_1"
   ]
  },
  {
   "cell_type": "code",
   "execution_count": null,
   "metadata": {},
   "outputs": [],
   "source": [
    "matches_by_team_2 = matches.groupby('Season')['Team2'].value_counts()\n",
    "matches_by_team_2 = matches_by_team_2.reset_index()\n",
    "matches_by_team_2"
   ]
  },
  {
   "cell_type": "code",
   "execution_count": null,
   "metadata": {},
   "outputs": [],
   "source": [
    "# Number of matches won by each team\n",
    "matches_won_by_teams = matches.groupby('Season')['WinningTeam'].value_counts()\n",
    "matches_won_by_teams = matches_won_by_teams.reset_index()\n",
    "matches_won_by_teams"
   ]
  },
  {
   "cell_type": "code",
   "execution_count": null,
   "metadata": {},
   "outputs": [],
   "source": [
    "# matches_won_by_teams = matches_won_by_teams.unstack()\n",
    "# matches_won_by_teams.plot(kind='bar')\n",
    "# plt.show()"
   ]
  },
  {
   "cell_type": "code",
   "execution_count": null,
   "metadata": {},
   "outputs": [],
   "source": [
    "plt.figure(figsize = (10,6))\n",
    "sns.catplot(x = 'Season', y = 'count', hue='WinningTeam', kind='bar', data = matches_won_by_teams)\n",
    "plt.xlabel('Season')\n",
    "plt.ylabel('Matches Won')\n",
    "plt.title('Number of  IPL  matches won by each team season wise')\n",
    "plt.show()"
   ]
  }
 ],
 "metadata": {
  "kernelspec": {
   "display_name": "venv",
   "language": "python",
   "name": "python3"
  },
  "language_info": {
   "codemirror_mode": {
    "name": "ipython",
    "version": 3
   },
   "file_extension": ".py",
   "mimetype": "text/x-python",
   "name": "python",
   "nbconvert_exporter": "python",
   "pygments_lexer": "ipython3",
   "version": "3.10.10"
  },
  "orig_nbformat": 4
 },
 "nbformat": 4,
 "nbformat_minor": 2
}
