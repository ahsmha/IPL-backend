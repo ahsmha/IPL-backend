{
 "cells": [
  {
   "cell_type": "code",
   "execution_count": null,
   "metadata": {},
   "outputs": [],
   "source": [
    "import pandas as pd\n",
    "import numpy as np\n",
    "import matplotlib.pyplot as plt\n",
    "%matplotlib inline\n",
    "import seaborn as sns\n",
    "import plotly.express as px\n",
    "import plotly.graph_objects as go"
   ]
  },
  {
   "cell_type": "code",
   "execution_count": null,
   "metadata": {},
   "outputs": [],
   "source": [
    "matches = pd.read_csv('../../../static/data/dataset_3/IPL_Matches_2008_2022.csv')\n",
    "matches.head()"
   ]
  },
  {
   "cell_type": "code",
   "execution_count": null,
   "metadata": {},
   "outputs": [],
   "source": [
    "balls = pd.read_csv('../../../static/data/dataset_3/IPL_Ball_by_Ball_2008_2022.csv')\n",
    "balls.head()"
   ]
  },
  {
   "cell_type": "code",
   "execution_count": null,
   "metadata": {},
   "outputs": [],
   "source": [
    "matches.describe()"
   ]
  },
  {
   "cell_type": "code",
   "execution_count": null,
   "metadata": {},
   "outputs": [],
   "source": [
    "matches.info()"
   ]
  },
  {
   "cell_type": "code",
   "execution_count": null,
   "metadata": {},
   "outputs": [],
   "source": [
    "matches.shape"
   ]
  },
  {
   "cell_type": "code",
   "execution_count": null,
   "metadata": {},
   "outputs": [],
   "source": [
    "matches.isna().sum()"
   ]
  },
  {
   "cell_type": "code",
   "execution_count": null,
   "metadata": {},
   "outputs": [],
   "source": [
    "# Rename old names to new names\n",
    "matches['Team1'] = matches['Team1'].str.replace('Delhi Daredevils', 'Delhi Capitals')\n",
    "matches['Team1'] = matches['Team1'].str.replace('Kings XI Punjab', 'Punjab Kings')\n",
    "matches['Team1'] = matches['Team1'].str.replace('Deccan Chargers', 'Sunrisers Hyderabad')\n",
    "matches['Team1'] = matches['Team1'].str.replace('Rising Pune Supergiants', 'Rising Pune Supergiant')\n",
    "\n",
    "\n",
    "matches['Team2'] = matches['Team2'].str.replace('Delhi Daredevils', 'Delhi Capitals')\n",
    "matches['Team2'] = matches['Team2'].str.replace('Kings XI Punjab', 'Punjab Kings')\n",
    "matches['Team2'] = matches['Team2'].str.replace('Deccan Chargers', 'Sunrisers Hyderabad')\n",
    "matches['Team2'] = matches['Team2'].str.replace('Rising Pune Supergiants', 'Rising Pune Supergiant')\n",
    "\n",
    "\n",
    "matches['TossWinner'] = matches['TossWinner'].str.replace('Delhi Daredevils', 'Delhi Capitals')\n",
    "matches['TossWinner'] = matches['TossWinner'].str.replace('Kings XI Punjab', 'Punjab Kings')\n",
    "matches['TossWinner'] = matches['TossWinner'].str.replace('Deccan Chargers', 'Sunrisers Hyderabad')\n",
    "matches['TossWinner'] = matches['TossWinner'].str.replace('Rising Pune Supergiants', 'Rising Pune Supergiant')\n",
    "\n",
    "\n",
    "matches['WinningTeam'] = matches['WinningTeam'].str.replace('Delhi Daredevils', 'Delhi Capitals')\n",
    "matches['WinningTeam'] = matches['WinningTeam'].str.replace('Kings XI Punjab', 'Punjab Kings')\n",
    "matches['WinningTeam'] = matches['WinningTeam'].str.replace('Deccan Chargers', 'Sunrisers Hyderabad')\n",
    "matches['WinningTeam'] = matches['WinningTeam'].str.replace('Rising Pune Supergiants', 'Rising Pune Supergiant')"
   ]
  },
  {
   "cell_type": "code",
   "execution_count": null,
   "metadata": {},
   "outputs": [],
   "source": [
    "matches.Venue.replace({'Feroz Shah Kotla Ground':'Feroz Shah Kotla',\n",
    "                    'M Chinnaswamy Stadium':'M. Chinnaswamy Stadium',\n",
    "                    'MA Chidambaram Stadium, Chepauk':'M.A. Chidambaram Stadium',\n",
    "                     'M. A. Chidambaram Stadium':'M.A. Chidambaram Stadium',\n",
    "                     'Punjab Cricket Association IS Bindra Stadium, Mohali':'Punjab Cricket Association Stadium',\n",
    "                     'Punjab Cricket Association Stadium, Mohali':'Punjab Cricket Association Stadium',\n",
    "                     'IS Bindra Stadium':'Punjab Cricket Association Stadium',\n",
    "                    'Rajiv Gandhi International Stadium, Uppal':'Rajiv Gandhi International Stadium',\n",
    "                    'Rajiv Gandhi Intl. Cricket Stadium':'Rajiv Gandhi International Stadium'},regex=True,inplace=True)"
   ]
  },
  {
   "cell_type": "code",
   "execution_count": null,
   "metadata": {},
   "outputs": [],
   "source": [
    "# Current teams in IPl\n",
    "current_teams = [\n",
    "    'Rajasthan Royals',\n",
    "    'Royal Challengers Bangalore',\n",
    "    'Sunrisers Hyderabad', \n",
    "    'Delhi Capitals', \n",
    "    'Chennai Super Kings',\n",
    "    'Gujarat Titans', \n",
    "    'Lucknow Super Giants', \n",
    "    'Kolkata Knight Riders',\n",
    "    'Punjab Kings', \n",
    "    'Mumbai Indians'\n",
    "]"
   ]
  },
  {
   "cell_type": "code",
   "execution_count": null,
   "metadata": {},
   "outputs": [],
   "source": [
    "# Setting data of current teams only\n",
    "matches = matches[matches['Team1'].isin(current_teams)]\n",
    "matches = matches[matches['Team2'].isin(current_teams)]\n",
    "matches = matches[matches['TossWinner'].isin(current_teams)]\n",
    "matches = matches[matches['WinningTeam'].isin(current_teams)]"
   ]
  },
  {
   "cell_type": "code",
   "execution_count": null,
   "metadata": {},
   "outputs": [],
   "source": [
    "matches['Season'] = matches['Season'].str.replace('2007/08', '2008')\n",
    "matches['Season'] = matches['Season'].str.replace('2009/10', '2010')\n",
    "matches['Season'] = matches['Season'].str.replace('2020/21', '2020')"
   ]
  },
  {
   "cell_type": "markdown",
   "metadata": {},
   "source": [
    "### Creating Number of  IPL  matches won by each team"
   ]
  },
  {
   "cell_type": "code",
   "execution_count": null,
   "metadata": {},
   "outputs": [],
   "source": [
    "plt.figure(figsize = (6,4))\n",
    "sns.countplot(y = 'WinningTeam',data = matches,order= matches['WinningTeam'].value_counts().index)\n",
    "plt.xlabel('Wins')\n",
    "plt.ylabel('Team')\n",
    "plt.title('Number of  IPL  matches won by each team from 2008 to 2022')"
   ]
  },
  {
   "cell_type": "markdown",
   "metadata": {},
   "source": [
    "### Creating Season wise number of matches played"
   ]
  },
  {
   "cell_type": "code",
   "execution_count": null,
   "metadata": {},
   "outputs": [],
   "source": [
    "# Season wise number of matches played\n",
    "matches_per_season = matches['Season'].value_counts()\n",
    "matches_per_season = matches_per_season.sort_index()\n",
    "print('Season wise number of matches played\\n', matches_per_season)\n",
    "plt.figure(figsize = (5,4))\n",
    "sns.countplot(y = 'Season', data = matches, order= matches_per_season.index)\n",
    "plt.xlabel('Matches')\n",
    "plt.ylabel('Season')\n",
    "plt.title('Number of  IPL  matches played in each season from 2008 to 2022')"
   ]
  },
  {
   "attachments": {},
   "cell_type": "markdown",
   "metadata": {},
   "source": [
    "### Number of matches played in each season by each team"
   ]
  },
  {
   "cell_type": "code",
   "execution_count": null,
   "metadata": {},
   "outputs": [],
   "source": [
    "matches_by_team_1 = matches.groupby('Season')['Team1'].value_counts()\n",
    "matches_by_team_1 = matches_by_team_1.reset_index()\n",
    "matches_by_team_1"
   ]
  },
  {
   "cell_type": "code",
   "execution_count": null,
   "metadata": {},
   "outputs": [],
   "source": [
    "matches_by_team_2 = matches.groupby('Season')['Team2'].value_counts()\n",
    "matches_by_team_2 = matches_by_team_2.reset_index()\n",
    "matches_by_team_2"
   ]
  },
  {
   "attachments": {},
   "cell_type": "markdown",
   "metadata": {},
   "source": [
    "### Creating Number of  IPL  matches won by each team season wise"
   ]
  },
  {
   "cell_type": "code",
   "execution_count": null,
   "metadata": {},
   "outputs": [],
   "source": [
    "# Number of matches won by each team\n",
    "matches_won_by_teams = matches.groupby('Season')['WinningTeam'].value_counts()\n",
    "matches_won_by_teams = matches_won_by_teams.reset_index()\n",
    "print( 'Number of matches won by each team season wise\\n', matches_won_by_teams)\n",
    "plt.figure(figsize = (5, 5))\n",
    "sns.catplot(x = 'Season', y = 'count', hue='WinningTeam', kind='bar', data = matches_won_by_teams, height=6, aspect=2)\n",
    "plt.xlabel('Season')\n",
    "plt.ylabel('Matches Won')\n",
    "plt.title('Number of  IPL  matches won by each team season wise from 2008 to 2022')\n",
    "plt.show()"
   ]
  },
  {
   "attachments": {},
   "cell_type": "markdown",
   "metadata": {},
   "source": [
    "### Creating a list of the Top 20 Cities where the most number of matches have been played."
   ]
  },
  {
   "cell_type": "code",
   "execution_count": null,
   "metadata": {},
   "outputs": [],
   "source": [
    "city_counts = matches.groupby('City').apply(lambda x:x['City'].count()).reset_index(name='Match Counts')\n",
    "top_cities_order = city_counts.sort_values(by='Match Counts',ascending=False)\n",
    "top_cities = top_cities_order[:20]\n",
    "print('Top 15 Cities with the maximum number of Matches Played:\\n',top_cities)\n",
    "plt.figure(figsize=(5,5))\n",
    "plt.pie(top_cities['Match Counts'],labels=top_cities['City'],autopct='%1.1f%%', startangle=30)\n",
    "plt.axis('equal')\n",
    "plt.title('Top Cities that have hosted IPL Matches',size=20)"
   ]
  },
  {
   "attachments": {},
   "cell_type": "markdown",
   "metadata": {},
   "source": [
    "### Creating the list of the Top 20 venues where the most number of IPL matches have been played."
   ]
  },
  {
   "cell_type": "code",
   "execution_count": null,
   "metadata": {},
   "outputs": [],
   "source": [
    "venue_counts = matches.groupby('Venue').apply(lambda x:x['Venue'].count()).reset_index(name='Match Counts')\n",
    "top_venues_order = venue_counts.sort_values(by='Match Counts',ascending=False)\n",
    "top_venues = top_venues_order[:20]\n",
    "print('Top 20 Stadiums with the maximum number of Matches Played:\\n',top_venues)\n",
    "plt.figure(figsize=(5,5))\n",
    "plt.pie(top_venues['Match Counts'],labels=top_venues['Venue'],autopct='%1.1f%%', startangle=40)\n",
    "plt.axis('equal')\n",
    "plt.title('Top Stadiums that have hosted IPL Matches',size=20)"
   ]
  },
  {
   "attachments": {},
   "cell_type": "markdown",
   "metadata": {},
   "source": [
    "### Creating the list of Top 10 Scoring Batsman"
   ]
  },
  {
   "cell_type": "code",
   "execution_count": null,
   "metadata": {},
   "outputs": [],
   "source": [
    "batting_tot = balls.groupby('batter').apply(lambda x:np.sum(x['batsman_run'])).reset_index(name='Runs')\n",
    "batting_sorted = batting_tot.sort_values(by='Runs',ascending=False)\n",
    "top_batsmen = batting_sorted[:10] \n",
    "print('The Top 10 Batsmen in thr Tournament are:\\n',top_batsmen)\n",
    "fig = px.bar(top_batsmen, x='batter', y='Runs',\n",
    "             hover_data=['batter'], color='Runs',title='Top 10 Batsmen in IPL- Seasons 2008-2022')\n",
    "fig.show()"
   ]
  },
  {
   "attachments": {},
   "cell_type": "markdown",
   "metadata": {},
   "source": [
    "### Creating the list of the Top 10 highest scorers in a match"
   ]
  },
  {
   "cell_type": "code",
   "execution_count": null,
   "metadata": {},
   "outputs": [],
   "source": [
    "batting_ings=balls.groupby(['ID','batter']).apply(lambda x:np.sum(x['batsman_run'])).reset_index(name='Innings Runs')\n",
    "batting_ings_sorted=batting_ings.sort_values(by='Innings Runs',ascending=False)\n",
    "top_batsmen_scores=batting_ings_sorted[:10] \n",
    "batsman_ball_faced=balls.groupby(['ID','batter']).apply(lambda x:x['batsman_run'].count()).reset_index(name='Balls Faced')\n",
    "batsmen_performance=pd.merge(top_batsmen_scores,batsman_ball_faced,how='inner',left_on=['ID','batter'],right_on=['ID','batter'])\n",
    "batsmen_performance['Strike Rate for Match']=batsmen_performance['Innings Runs']*100/batsmen_performance['Balls Faced']\n",
    "batsmen_innings=pd.merge(batsmen_performance,balls,how='inner',left_on=['ID','batter'],right_on=['ID','batter'])\n",
    "batsmen_innings_req=batsmen_innings.iloc[:,1:8]\n",
    "batsmen_innings_req_2=batsmen_innings_req.drop_duplicates()\n",
    "print('The Top 10 Batting Performances in the IPL History are:\\n',batsmen_innings_req_2)\n",
    "x=batsmen_innings_req_2['batter']\n",
    "y1=batsmen_innings_req_2['Strike Rate for Match']\n",
    "y2=batsmen_innings_req_2['Innings Runs']\n",
    "plt.figure(figsize=(15,6))\n",
    "plt.scatter(x,y1)\n",
    "plt.scatter(x,y2)\n",
    "plt.xlabel('Batsmen',size=15)\n",
    "plt.ylabel('Strike Rate/Innings Score',size=15)\n",
    "plt.title('IPL Best batting performances in a Match',size=20)\n",
    "plt.xticks(rotation=60)\n",
    "plt.legend(['Strike Rate','Runs'],prop={'size':20})"
   ]
  },
  {
   "attachments": {},
   "cell_type": "markdown",
   "metadata": {},
   "source": [
    "### Creating a list of the top 10 Bowlers with highest number of wickets"
   ]
  },
  {
   "cell_type": "code",
   "execution_count": null,
   "metadata": {},
   "outputs": [],
   "source": [
    "#Run Out is not considered as a wicket in the Bowler's account- hence we shall be removing them first\n",
    "\n",
    "bowling_wickets=balls[balls['kind']!='run out']\n",
    "bowling_tot=bowling_wickets.groupby('bowler').apply(lambda x:x['kind'].dropna()).reset_index(name='Wickets')\n",
    "bowling_wick_count=bowling_tot.groupby('bowler').count().reset_index()\n",
    "bowling_top=bowling_wick_count.sort_values(by='Wickets',ascending=False)\n",
    "top_bowlers=bowling_top.loc[:,['bowler','Wickets']][0:10] \n",
    "print('The Top Wicket Takers in the Tournament are:\\n',top_bowlers)\n",
    "fig = px.bar(top_bowlers, x='bowler', y='Wickets',\n",
    "             hover_data=['bowler'], color='Wickets',title='Top 10 Bowlers in IPL- Seasons 2008-2022')\n",
    "fig.show()"
   ]
  },
  {
   "attachments": {},
   "cell_type": "markdown",
   "metadata": {},
   "source": [
    "### Creating a list of the Top 10 Wicket Takers in a match of IPL"
   ]
  },
  {
   "cell_type": "code",
   "execution_count": null,
   "metadata": {},
   "outputs": [],
   "source": [
    "#Run Out is not considered as a wicket in the Bowler's account- hence we shall be removing them first\n",
    "match_bowling_tot=bowling_wickets.groupby(['ID','bowler']).apply(lambda x:x['kind'].dropna()).reset_index(name='Wickets')\n",
    "match_bowling_wick_count=match_bowling_tot.groupby(['ID','bowler']).count().reset_index()\n",
    "match_bowling_top=match_bowling_wick_count.sort_values(by='Wickets',ascending=False)\n",
    "match_top_bowlers=match_bowling_top.loc[:,['ID','bowler','Wickets']][0:10] \n",
    "match_bowling_runs=balls.groupby(['ID','bowler']).apply(lambda x:np.sum(x['total_run'])).reset_index(name='Runs Conceeded')\n",
    "match_bowler_performance=pd.merge(match_top_bowlers,match_bowling_runs,how='inner',left_on=['ID','bowler'],right_on=['ID','bowler'])\n",
    "match_bowler_performance['Runs per Wicket']=match_bowler_performance['Runs Conceeded']/match_bowler_performance['Wickets']\n",
    "bowler_innings=pd.merge(match_bowler_performance,balls,how='inner',left_on=['ID','bowler'],right_on=['ID','bowler'])\n",
    "bowler_innings_req=bowler_innings.iloc[:,1:8]\n",
    "bowler_innings_req_2=bowler_innings_req.drop_duplicates()\n",
    "print('The Top 10 Batting Performances in the IPL History are:\\n',bowler_innings_req_2)\n",
    "x=bowler_innings_req_2['bowler']\n",
    "y1=bowler_innings_req_2['Wickets']\n",
    "y2=bowler_innings_req_2['Runs per Wicket']\n",
    "plt.figure(figsize=(10,5))\n",
    "plt.scatter(x,y1)\n",
    "plt.plot(x,y2,'r')\n",
    "plt.xlabel('Bowlers',size=15)\n",
    "plt.ylabel('Runs per Wicket/Wickets',size=15)\n",
    "plt.title('IPL Best bowling performances in a Match',size=20)\n",
    "plt.xticks(rotation=60)\n",
    "plt.legend(['Runs per Wicket','Wickets'],prop={'size':15})"
   ]
  },
  {
   "attachments": {},
   "cell_type": "markdown",
   "metadata": {},
   "source": [
    "### Creating a list of the top 10 fielders (including Wicket Keepers)"
   ]
  },
  {
   "cell_type": "code",
   "execution_count": null,
   "metadata": {},
   "outputs": [],
   "source": [
    "#Creating a list of the best fielders- Considering Catch,Run Out and Stumpings\n",
    "fielder_list = balls.groupby('fielders_involved').apply(lambda x: x).dropna().reset_index(drop=True)\n",
    "fielder_list_count = fielder_list.groupby('fielders_involved').count()\n",
    "fielder_list_counts = fielder_list_count['kind'].reset_index(name='Dismissals')\n",
    "fielder_list_max = fielder_list_counts.sort_values(by='Dismissals',ascending=False)\n",
    "top_fielders = fielder_list_max[0:10]\n",
    "print('The Best Fielders(and WicketKeepers) in the Torunament are:\\n',top_fielders)\n",
    "\n",
    "fig = px.bar(top_fielders, x='fielders_involved', y='Dismissals',\n",
    "             hover_data=['fielders_involved'], color='Dismissals',title='Top 10 Fielders in IPL- Seasons 2008-2022')\n",
    "fig.show()"
   ]
  },
  {
   "attachments": {},
   "cell_type": "markdown",
   "metadata": {},
   "source": [
    "### Calculating the Strike Rate of a batsman who has scored more than or equal to a Target Run "
   ]
  },
  {
   "cell_type": "code",
   "execution_count": null,
   "metadata": {},
   "outputs": [],
   "source": [
    "Target_run = 1000\n",
    "batting_tot = balls.groupby('batter').apply(lambda x:np.sum(x['batsman_run'])).reset_index(name='Runs')\n",
    "batsman_balls_faced = balls.groupby('batter').count()\n",
    "batsman_balls_faced_count = batsman_balls_faced['ballnumber'].reset_index(name='Balls Faced')\n",
    "batsman_runs_balls = pd.merge(batting_tot,batsman_balls_faced_count,left_on='batter',right_on='batter',how='outer')\n",
    "batsman_strike_rate = batsman_runs_balls.groupby(['batter','Runs']).apply(lambda x:((x['Runs'])/(x['Balls Faced']))*100).reset_index(name='Strike Rate')\n",
    "plt.scatter(batsman_strike_rate['Runs'],batsman_strike_rate['Strike Rate'])\n",
    "plt.plot(np.mean(batsman_strike_rate['Strike Rate']),'r')\n",
    "plt.xlabel('Batsman Runs',size=15)\n",
    "plt.ylabel('Strike Rate',size=15)\n",
    "plt.title('Overall Runs vs Strike Rate Analysis',size=25)\n",
    "plt.show()\n",
    "batsman_strike_rate_list = batsman_strike_rate.sort_values(by='Strike Rate',ascending=False)\n",
    "batsman_strike_rate_above_target_runs = batsman_strike_rate_list[batsman_strike_rate_list['Runs']>=Target_run]\n",
    "top_strike_rate_batsman = batsman_strike_rate_above_target_runs.loc[:,['batter','Runs','Strike Rate']][0:10]\n",
    "print('The Top 10 batsmen having highest strike rate, scoring atleast {} Runs:\\n'.format(Target_run),top_strike_rate_batsman)\n",
    "plt.plot(top_strike_rate_batsman['batter'],top_strike_rate_batsman['Strike Rate'],color='r')\n",
    "plt.scatter(top_strike_rate_batsman['batter'],top_strike_rate_batsman['Strike Rate'],color='g')\n",
    "plt.xlabel('Batsman',size=15)\n",
    "plt.ylabel('Strike Rate',size=15)\n",
    "plt.title('Top 10 Batsmen Strike Rate Analysis',size=25)\n",
    "plt.xticks(rotation=60)"
   ]
  },
  {
   "attachments": {},
   "cell_type": "markdown",
   "metadata": {},
   "source": [
    "### Calculating the Economy rate of Bowlers who have bowled more than the entered Ball Limit "
   ]
  },
  {
   "cell_type": "code",
   "execution_count": null,
   "metadata": {},
   "outputs": [],
   "source": [
    "Ball_Limit = 1000\n",
    "bowling_runs = balls.groupby('bowler').apply(lambda x:np.sum(x['total_run'])).reset_index(name='Runs Conceeded')\n",
    "bowling_balls =balls.groupby('bowler').count()\n",
    "bowled_balls = bowling_balls['ballnumber'].reset_index(name='Balls Bowled')\n",
    "bowler_stats = pd.merge(bowling_runs,bowled_balls,left_on='bowler',right_on='bowler',how='outer')\n",
    "bowler_economy_rate = bowler_stats.groupby(['bowler','Balls Bowled']).apply(lambda x:(((x['Runs Conceeded'])/(x['Balls Bowled']))*6)).reset_index(name='Economy Rate')\n",
    "plt.scatter(bowler_economy_rate['Balls Bowled'],bowler_economy_rate['Economy Rate'],color='g')\n",
    "plt.xlabel('Balls Bowled',size=15)\n",
    "plt.ylabel('Economy Rate',size=15)\n",
    "plt.title('Balls vs Economy Rate Analysis',size=25)\n",
    "plt.show()\n",
    "bowler_best_economy_rate = bowler_economy_rate.sort_values(by='Economy Rate',ascending=True)\n",
    "bowler_best_economy_rate_condition = bowler_best_economy_rate[bowler_best_economy_rate['Balls Bowled']>=Ball_Limit]\n",
    "top_10_economy = bowler_best_economy_rate_condition.loc[:,['bowler','Balls Bowled','Economy Rate']][0:10]\n",
    "print('The Top 10 bowlers having best economy rate, bowling atleast {} balls:\\n'.format(Ball_Limit),top_10_economy)\n",
    "plt.plot(top_10_economy['bowler'],top_10_economy['Economy Rate'],color='y')\n",
    "plt.scatter(top_10_economy['bowler'],top_10_economy['Economy Rate'],color='b')\n",
    "plt.xlabel('Bowlers',size=15)\n",
    "plt.ylabel('Economy Rate',size=15)\n",
    "plt.title('Top 10 Bowler Economy Rate Analysis',size=25)\n",
    "plt.xticks(rotation=60)"
   ]
  },
  {
   "attachments": {},
   "cell_type": "markdown",
   "metadata": {},
   "source": [
    "### Creating a list of the Players who have achieved highest number of 'Man of the Match Awards'"
   ]
  },
  {
   "cell_type": "code",
   "execution_count": null,
   "metadata": {},
   "outputs": [],
   "source": [
    "motm = matches.groupby('Player_of_Match').apply(lambda x:x['Player_of_Match'].count()).reset_index(name='Man of the Match Awards')\n",
    "motm_sort = motm.sort_values(by='Man of the Match Awards',ascending=False)\n",
    "motm_top = motm_sort[0:15]\n",
    "plt.plot(motm_top['Player_of_Match'],motm_top['Man of the Match Awards'],color='b')\n",
    "plt.bar(motm_top['Player_of_Match'],motm_top['Man of the Match Awards'],color='y')\n",
    "plt.xlabel('Players')\n",
    "plt.ylabel('Man of the Match Award Count')\n",
    "plt.title('Top 15 Players who have won most the Man of the Match trophies',size=15)\n",
    "plt.xticks(rotation=60)"
   ]
  },
  {
   "attachments": {},
   "cell_type": "markdown",
   "metadata": {},
   "source": [
    "### Best all rounder performance- Considering Batting Factor, Bowling Factor and Fielding Factor."
   ]
  },
  {
   "cell_type": "code",
   "execution_count": null,
   "metadata": {},
   "outputs": [],
   "source": [
    "batting_factor = 0.5\n",
    "bowling_factor = 15.0\n",
    "fielding_factor = 10.0\n",
    "all_rounding_1 = pd.merge(batting_sorted,bowling_top,left_on='batter',right_on='bowler',how='inner')\n",
    "all_rounding_2 = pd.merge(all_rounding_1,fielder_list_max,left_on='batter',right_on='fielders_involved',how='left')\n",
    "all_rounding_performance = all_rounding_2.groupby(['batter','Runs','Wickets','Dismissals']).apply(lambda x:(((x['Runs'])*batting_factor)+((x['Wickets'])*bowling_factor)+((x['Dismissals'])*fielding_factor))).reset_index(name='Overall Score')\n",
    "best_all_round_performance = all_rounding_performance.sort_values(by='Overall Score',ascending=False)\n",
    "best_overall = best_all_round_performance.loc[:,['batter','Runs','Wickets','Dismissals','Overall Score']][0:10]\n",
    "print('The top 10 best players overall are:\\n',best_overall)\n",
    "plt.figure(figsize=(10,10))\n",
    "plt.plot(best_overall['batter'],best_overall['Runs']*batting_factor,'g')\n",
    "plt.plot(best_overall['batter'],best_overall['Wickets']*bowling_factor,'r')\n",
    "plt.plot(best_overall['batter'],best_overall['Dismissals']*fielding_factor,'y')\n",
    "plt.plot(best_overall['batter'],best_overall['Overall Score'])\n",
    "plt.xlabel('The Top 10 performers',size=15)\n",
    "plt.ylabel('Scoring Units',size=15)\n",
    "plt.xticks(rotation=60)\n",
    "plt.title('Overall Performance by Top 10 Performers in IPL-2008-2022',size=20)\n",
    "plt.legend(['Run Points','Wicket Points','Dismissal Points','Overall Score'])"
   ]
  },
  {
   "attachments": {},
   "cell_type": "markdown",
   "metadata": {},
   "source": [
    "## Team wise Analysis\n",
    "### Innings wise batting average of the Teams"
   ]
  },
  {
   "cell_type": "code",
   "execution_count": null,
   "metadata": {},
   "outputs": [],
   "source": [
    "first_innins_run = balls[balls['innings']==1]\n",
    "team_innings_run = first_innins_run.groupby(['BattingTeam','ID']).apply(lambda x:np.sum(x['total_run'])).reset_index(name='Innings Total')\n",
    "team_innings_avg = team_innings_run.groupby('BattingTeam').apply(lambda x:np.mean(x['Innings Total'])).reset_index(name='Innings Average')\n",
    "plt.plot(team_innings_avg['BattingTeam'],team_innings_avg['Innings Average'],'b')\n",
    "second_innins_run = balls[balls['innings']==2]\n",
    "team_innings_run = second_innins_run.groupby(['BattingTeam','ID']).apply(lambda x:np.sum(x['total_run'])).reset_index(name='Innings Total')\n",
    "team_innings_avg = team_innings_run.groupby('BattingTeam').apply(lambda x:np.mean(x['Innings Total'])).reset_index(name='Innings Average')\n",
    "plt.plot(team_innings_avg['BattingTeam'],team_innings_avg['Innings Average'],'r')\n",
    "plt.xticks(rotation=90)\n",
    "plt.xlabel('IPL Teams',size=15)\n",
    "plt.ylabel('Innings Average',size=15)\n",
    "plt.title('Team wise Batting Average in IPL- Seasons 2008-2022',size=20)"
   ]
  },
  {
   "attachments": {},
   "cell_type": "markdown",
   "metadata": {},
   "source": [
    "### Innings wise bowling average of the Teams"
   ]
  },
  {
   "cell_type": "code",
   "execution_count": null,
   "metadata": {},
   "outputs": [],
   "source": [
    "balls = balls.merge(matches[['ID', 'Team1', 'Team2']], on='ID')\n",
    "index1 = balls[balls['Team2'] == balls['BattingTeam']]['Team1'].index\n",
    "index2 = balls[balls['Team1'] == balls['BattingTeam']]['Team2'].index\n",
    "balls.loc[index1, 'BowlingTeam'] = balls.loc[index1, 'Team1']\n",
    "balls.loc[index2, 'BowlingTeam'] = balls.loc[index2, 'Team2']\n",
    "balls.head()"
   ]
  },
  {
   "cell_type": "code",
   "execution_count": null,
   "metadata": {},
   "outputs": [],
   "source": [
    "first_innins_score = balls[balls['innings']==1]\n",
    "team_innings_score = first_innins_score.groupby(['BowlingTeam','ID']).apply(lambda x:np.sum(x['total_run'])).reset_index(name='Innings Total')\n",
    "team_innings_score_avg = team_innings_score.groupby('BowlingTeam').apply(lambda x:np.mean(x['Innings Total'])).reset_index(name='Innings Average')\n",
    "plt.plot(team_innings_score_avg['BowlingTeam'],team_innings_score_avg['Innings Average'],'b')\n",
    "second_innins_score = balls[balls['innings']==2]\n",
    "team_innings_second_score = second_innins_score.groupby(['BowlingTeam','ID']).apply(lambda x:np.sum(x['total_run'])).reset_index(name='Innings Total')\n",
    "team_second_innings_score_avg = team_innings_second_score.groupby('BowlingTeam').apply(lambda x:np.mean(x['Innings Total'])).reset_index(name='Innings Average')\n",
    "plt.plot(team_second_innings_score_avg['BowlingTeam'],team_second_innings_score_avg['Innings Average'],'r')\n",
    "plt.xticks(rotation=90)\n",
    "plt.legend(['First Innings','Second Innings'],prop={'size':10})\n",
    "plt.xlabel('IPL Teams',size=15)\n",
    "plt.ylabel('Innings Average',size=15)\n",
    "plt.title('Team wise Bowling Average in IPL- Seasons 2008-2022',size=20)"
   ]
  },
  {
   "cell_type": "markdown",
   "metadata": {},
   "source": [
    "### Win by Runs/Win by Wickets- Team wise Average"
   ]
  },
  {
   "cell_type": "code",
   "execution_count": null,
   "metadata": {},
   "outputs": [],
   "source": [
    "def won_by_runs(row):\n",
    "    if row['WonBy'] == 'Runs': return int(row['Margin'])\n",
    "    return 0\n",
    "\n",
    "matches['win_by_runs'] = matches.apply(won_by_runs, axis=1)"
   ]
  },
  {
   "cell_type": "code",
   "execution_count": null,
   "metadata": {},
   "outputs": [],
   "source": [
    "def win_by_wickets(row):\n",
    "    if row['WonBy'] == 'Wickets': return int(row['Margin'])\n",
    "    return 0\n",
    "\n",
    "matches['win_by_wickets'] = matches.apply(win_by_wickets, axis=1)"
   ]
  },
  {
   "cell_type": "code",
   "execution_count": null,
   "metadata": {},
   "outputs": [],
   "source": [
    "win_runs = matches.groupby('WinningTeam').apply(lambda x:np.average(x['win_by_runs'])).reset_index(name='Win By Runs Average')\n",
    "win_wickets = matches.groupby('WinningTeam').apply(lambda x:np.average(x['win_by_wickets'])).reset_index(name='Win By Wickets Average')\n",
    "plt.figure(figsize=(7,7))\n",
    "plt.plot(win_runs['WinningTeam'],win_runs['Win By Runs Average'],color='b')\n",
    "plt.plot(win_wickets['WinningTeam'],win_wickets['Win By Wickets Average'],color='r')\n",
    "plt.xlabel('Teams',size=15)\n",
    "plt.xticks(rotation=90)\n",
    "plt.ylabel('Winning Metrics',size=15)\n",
    "plt.legend(['Win by Runs','Win by Wickets'])\n",
    "plt.title('Teams Average winning by Runs/Wickets Summary')"
   ]
  }
 ],
 "metadata": {
  "kernelspec": {
   "display_name": "venv",
   "language": "python",
   "name": "python3"
  },
  "language_info": {
   "codemirror_mode": {
    "name": "ipython",
    "version": 3
   },
   "file_extension": ".py",
   "mimetype": "text/x-python",
   "name": "python",
   "nbconvert_exporter": "python",
   "pygments_lexer": "ipython3",
   "version": "3.10.10"
  },
  "orig_nbformat": 4
 },
 "nbformat": 4,
 "nbformat_minor": 2
}
